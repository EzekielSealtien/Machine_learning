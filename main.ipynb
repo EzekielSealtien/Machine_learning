{
 "cells": [
  {
   "cell_type": "markdown",
   "id": "3fac2bc8",
   "metadata": {},
   "source": [
    "# Apprentissage Automatique (Machine Learning)"
   ]
  },
  {
   "cell_type": "markdown",
   "id": "98d10573",
   "metadata": {},
   "source": [
    "## Classification (Diagnostic)"
   ]
  },
  {
   "cell_type": "code",
   "execution_count": null,
   "id": "34ee2475",
   "metadata": {},
   "outputs": [
    {
     "ename": "",
     "evalue": "",
     "output_type": "error",
     "traceback": [
      "\u001b[1;31mRunning cells with 'env (Python 3.12.4)' requires the ipykernel package.\n",
      "\u001b[1;31mRun the following command to install 'ipykernel' into the Python environment. \n",
      "\u001b[1;31mCommand: 'c:/Users/user/Desktop/School/SESSION4/IA1/Machine_learning/env/Scripts/python.exe -m pip install ipykernel -U --force-reinstall'"
     ]
    }
   ],
   "source": [
    "# Load CSV file with Pandas\n",
    "from pandas import read_csv\n",
    "# Scikit-learn\n",
    "from sklearn.model_selection import train_test_split # Split data\n",
    "from sklearn.linear_model import LogisticRegression # Algorithme d'apprentissage\n",
    "filename = 'datasets/pima-indians-diabetes.data.csv'\n",
    "col_names = ['preg', 'plas', 'pres', 'skin', 'test', 'mass', 'pedi', 'age', 'class']\n",
    "data = read_csv(filename, names=col_names)\n",
    "patient = [f'patient_{x}' for x in range(1, 769)]\n",
    "data.index = patient\n",
    "print(f'Shape: {data.shape}')\n",
    "print(f'Dataframe\\n----------\\n{data}')"
   ]
  },
  {
   "cell_type": "code",
   "execution_count": null,
   "id": "e6f0a80f",
   "metadata": {},
   "outputs": [],
   "source": [
    "# Get dataframe values as 2D-Array\n",
    "array = data.values"
   ]
  },
  {
   "cell_type": "code",
   "execution_count": null,
   "id": "66e35be0",
   "metadata": {},
   "outputs": [],
   "source": [
    "# Split Input (X) annd Output (Y)\n",
    "X = array[ :  , : -1]\n",
    "Y = array[ : , -1]"
   ]
  },
  {
   "cell_type": "code",
   "execution_count": null,
   "id": "747da7ca",
   "metadata": {},
   "outputs": [],
   "source": [
    "# Split data into train and test\n",
    "test_proportion = 0.30\n",
    "seed = 11 # Permet de fixer l'ensemble de test et d'apprentissage\n",
    "X_train, X_test, Y_train, Y_test = train_test_split(X, Y, test_size=test_proportion, random_state=seed)"
   ]
  },
  {
   "cell_type": "code",
   "execution_count": null,
   "id": "75e85aeb",
   "metadata": {},
   "outputs": [
    {
     "data": {
      "text/html": [
       "<style>#sk-container-id-1 {color: black;background-color: white;}#sk-container-id-1 pre{padding: 0;}#sk-container-id-1 div.sk-toggleable {background-color: white;}#sk-container-id-1 label.sk-toggleable__label {cursor: pointer;display: block;width: 100%;margin-bottom: 0;padding: 0.3em;box-sizing: border-box;text-align: center;}#sk-container-id-1 label.sk-toggleable__label-arrow:before {content: \"▸\";float: left;margin-right: 0.25em;color: #696969;}#sk-container-id-1 label.sk-toggleable__label-arrow:hover:before {color: black;}#sk-container-id-1 div.sk-estimator:hover label.sk-toggleable__label-arrow:before {color: black;}#sk-container-id-1 div.sk-toggleable__content {max-height: 0;max-width: 0;overflow: hidden;text-align: left;background-color: #f0f8ff;}#sk-container-id-1 div.sk-toggleable__content pre {margin: 0.2em;color: black;border-radius: 0.25em;background-color: #f0f8ff;}#sk-container-id-1 input.sk-toggleable__control:checked~div.sk-toggleable__content {max-height: 200px;max-width: 100%;overflow: auto;}#sk-container-id-1 input.sk-toggleable__control:checked~label.sk-toggleable__label-arrow:before {content: \"▾\";}#sk-container-id-1 div.sk-estimator input.sk-toggleable__control:checked~label.sk-toggleable__label {background-color: #d4ebff;}#sk-container-id-1 div.sk-label input.sk-toggleable__control:checked~label.sk-toggleable__label {background-color: #d4ebff;}#sk-container-id-1 input.sk-hidden--visually {border: 0;clip: rect(1px 1px 1px 1px);clip: rect(1px, 1px, 1px, 1px);height: 1px;margin: -1px;overflow: hidden;padding: 0;position: absolute;width: 1px;}#sk-container-id-1 div.sk-estimator {font-family: monospace;background-color: #f0f8ff;border: 1px dotted black;border-radius: 0.25em;box-sizing: border-box;margin-bottom: 0.5em;}#sk-container-id-1 div.sk-estimator:hover {background-color: #d4ebff;}#sk-container-id-1 div.sk-parallel-item::after {content: \"\";width: 100%;border-bottom: 1px solid gray;flex-grow: 1;}#sk-container-id-1 div.sk-label:hover label.sk-toggleable__label {background-color: #d4ebff;}#sk-container-id-1 div.sk-serial::before {content: \"\";position: absolute;border-left: 1px solid gray;box-sizing: border-box;top: 0;bottom: 0;left: 50%;z-index: 0;}#sk-container-id-1 div.sk-serial {display: flex;flex-direction: column;align-items: center;background-color: white;padding-right: 0.2em;padding-left: 0.2em;position: relative;}#sk-container-id-1 div.sk-item {position: relative;z-index: 1;}#sk-container-id-1 div.sk-parallel {display: flex;align-items: stretch;justify-content: center;background-color: white;position: relative;}#sk-container-id-1 div.sk-item::before, #sk-container-id-1 div.sk-parallel-item::before {content: \"\";position: absolute;border-left: 1px solid gray;box-sizing: border-box;top: 0;bottom: 0;left: 50%;z-index: -1;}#sk-container-id-1 div.sk-parallel-item {display: flex;flex-direction: column;z-index: 1;position: relative;background-color: white;}#sk-container-id-1 div.sk-parallel-item:first-child::after {align-self: flex-end;width: 50%;}#sk-container-id-1 div.sk-parallel-item:last-child::after {align-self: flex-start;width: 50%;}#sk-container-id-1 div.sk-parallel-item:only-child::after {width: 0;}#sk-container-id-1 div.sk-dashed-wrapped {border: 1px dashed gray;margin: 0 0.4em 0.5em 0.4em;box-sizing: border-box;padding-bottom: 0.4em;background-color: white;}#sk-container-id-1 div.sk-label label {font-family: monospace;font-weight: bold;display: inline-block;line-height: 1.2em;}#sk-container-id-1 div.sk-label-container {text-align: center;}#sk-container-id-1 div.sk-container {/* jupyter's `normalize.less` sets `[hidden] { display: none; }` but bootstrap.min.css set `[hidden] { display: none !important; }` so we also need the `!important` here to be able to override the default hidden behavior on the sphinx rendered scikit-learn.org. See: https://github.com/scikit-learn/scikit-learn/issues/21755 */display: inline-block !important;position: relative;}#sk-container-id-1 div.sk-text-repr-fallback {display: none;}</style><div id=\"sk-container-id-1\" class=\"sk-top-container\"><div class=\"sk-text-repr-fallback\"><pre>LogisticRegression(solver=&#x27;newton-cg&#x27;)</pre><b>In a Jupyter environment, please rerun this cell to show the HTML representation or trust the notebook. <br />On GitHub, the HTML representation is unable to render, please try loading this page with nbviewer.org.</b></div><div class=\"sk-container\" hidden><div class=\"sk-item\"><div class=\"sk-estimator sk-toggleable\"><input class=\"sk-toggleable__control sk-hidden--visually\" id=\"sk-estimator-id-1\" type=\"checkbox\" checked><label for=\"sk-estimator-id-1\" class=\"sk-toggleable__label sk-toggleable__label-arrow\">LogisticRegression</label><div class=\"sk-toggleable__content\"><pre>LogisticRegression(solver=&#x27;newton-cg&#x27;)</pre></div></div></div></div></div>"
      ],
      "text/plain": [
       "LogisticRegression(solver='newton-cg')"
      ]
     },
     "execution_count": 5,
     "metadata": {},
     "output_type": "execute_result"
    }
   ],
   "source": [
    "# Training the model\n",
    "model = LogisticRegression(solver='newton-cg')\n",
    "model.fit(X_train, Y_train) # Entrainement de modèle/ Apprentissage automatique"
   ]
  },
  {
   "cell_type": "code",
   "execution_count": null,
   "id": "37b0b081",
   "metadata": {},
   "outputs": [
    {
     "name": "stdout",
     "output_type": "stream",
     "text": [
      "Accuracy: 78.35%\n"
     ]
    }
   ],
   "source": [
    "# Evaluation de modèle\n",
    "result = model.score(X_test, Y_test)\n",
    "print(f'Accuracy: {(result*100).round(2)}%')"
   ]
  },
  {
   "cell_type": "code",
   "execution_count": null,
   "id": "d0bc28f6",
   "metadata": {
    "collapsed": true
   },
   "outputs": [
    {
     "name": "stdout",
     "output_type": "stream",
     "text": [
      "[ 2.   81.   60.   22.    0.   27.7   0.29 25.  ] -> Pred: 0.0 vs Diag: 0.0\n",
      "[  1.    130.     70.     13.    105.     25.9     0.472  22.   ] -> Pred: 0.0 vs Diag: 0.0\n",
      "[  0.    107.     60.     25.      0.     26.4     0.133  23.   ] -> Pred: 0.0 vs Diag: 0.0\n",
      "[  7.    114.     76.     17.    110.     23.8     0.466  31.   ] -> Pred: 0.0 vs Diag: 0.0\n",
      "[ 1.    80.    74.    11.    60.    30.     0.527 22.   ] -> Pred: 0.0 vs Diag: 0.0\n",
      "[ 2.    84.     0.     0.     0.     0.     0.304 21.   ] -> Pred: 0.0 vs Diag: 0.0\n",
      "[ 1.    95.    74.    21.    73.    25.9    0.673 36.   ] -> Pred: 0.0 vs Diag: 0.0\n",
      "[  5.    114.     74.      0.      0.     24.9     0.744  57.   ] -> Pred: 0.0 vs Diag: 0.0\n",
      "[  1.    153.     82.     42.    485.     40.6     0.687  23.   ] -> Pred: 0.0 vs Diag: 0.0\n",
      "[  1.    146.     56.      0.      0.     29.7     0.564  29.   ] -> Pred: 0.0 vs Diag: 0.0\n",
      "[  4.    114.     64.      0.      0.     28.9     0.126  24.   ] -> Pred: 0.0 vs Diag: 0.0\n",
      "[ 1.    99.    58.    10.     0.    25.4    0.551 21.   ] -> Pred: 0.0 vs Diag: 0.0\n",
      "[  2.    139.     75.      0.      0.     25.6     0.167  29.   ] -> Pred: 0.0 vs Diag: 0.0\n",
      "[  8.    151.     78.     32.    210.     42.9     0.516  36.   ] -> Pred: 1.0 vs Diag: 1.0\n",
      "[  0.    109.     88.     30.      0.     32.5     0.855  38.   ] -> Pred: 0.0 vs Diag: 1.0\n",
      "[  2.    130.     96.      0.      0.     22.6     0.268  21.   ] -> Pred: 0.0 vs Diag: 0.0\n",
      "[  6.    114.      0.      0.      0.      0.      0.189  26.   ] -> Pred: 0.0 vs Diag: 0.0\n",
      "[ 10.    108.     66.      0.      0.     32.4     0.272  42.   ] -> Pred: 0.0 vs Diag: 1.0\n",
      "[  5.    147.     78.      0.      0.     33.7     0.218  65.   ] -> Pred: 1.0 vs Diag: 0.0\n",
      "[  8.    186.     90.     35.    225.     34.5     0.423  37.   ] -> Pred: 1.0 vs Diag: 1.0\n",
      "[ 6.    91.     0.     0.     0.    29.8    0.501 31.   ] -> Pred: 0.0 vs Diag: 0.0\n",
      "[ 10.    125.     70.     26.    115.     31.1     0.205  41.   ] -> Pred: 0.0 vs Diag: 1.0\n",
      "[  2.    158.     90.      0.      0.     31.6     0.805  66.   ] -> Pred: 1.0 vs Diag: 1.0\n",
      "[  6.    108.     44.     20.    130.     24.      0.813  35.   ] -> Pred: 0.0 vs Diag: 0.0\n",
      "[2.00e+00 1.25e+02 6.00e+01 2.00e+01 1.40e+02 3.38e+01 8.80e-02 3.10e+01] -> Pred: 0.0 vs Diag: 0.0\n",
      "[  6.   111.    64.    39.     0.    34.2    0.26  24.  ] -> Pred: 0.0 vs Diag: 0.0\n",
      "[  2.     98.     60.     17.    120.     34.7     0.198  22.   ] -> Pred: 0.0 vs Diag: 0.0\n",
      "[ 0.   95.   80.   45.   92.   36.5   0.33 26.  ] -> Pred: 0.0 vs Diag: 0.0\n",
      "[  6.    151.     62.     31.    120.     35.5     0.692  28.   ] -> Pred: 1.0 vs Diag: 0.0\n",
      "[ 7.    81.    78.    40.    48.    46.7    0.261 42.   ] -> Pred: 0.0 vs Diag: 0.0\n",
      "[ 1.    92.    62.    25.    41.    19.5    0.482 25.   ] -> Pred: 0.0 vs Diag: 0.0\n",
      "[  3.    182.     74.      0.      0.     30.5     0.345  29.   ] -> Pred: 1.0 vs Diag: 1.0\n",
      "[12.    84.    72.    31.     0.    29.7    0.297 46.   ] -> Pred: 0.0 vs Diag: 1.0\n",
      "[0.00e+00 1.02e+02 5.20e+01 0.00e+00 0.00e+00 2.51e+01 7.80e-02 2.10e+01] -> Pred: 0.0 vs Diag: 0.0\n",
      "[4.00e+00 1.29e+02 8.60e+01 2.00e+01 2.70e+02 3.51e+01 2.31e-01 2.30e+01] -> Pred: 0.0 vs Diag: 0.0\n",
      "[  5.    104.     74.      0.      0.     28.8     0.153  48.   ] -> Pred: 0.0 vs Diag: 0.0\n",
      "[  2.    175.     88.      0.      0.     22.9     0.326  22.   ] -> Pred: 0.0 vs Diag: 0.0\n",
      "[  4.    110.     66.      0.      0.     31.9     0.471  29.   ] -> Pred: 0.0 vs Diag: 0.0\n",
      "[  6.    125.     68.     30.    120.     30.      0.464  32.   ] -> Pred: 0.0 vs Diag: 0.0\n",
      "[  0.    121.     66.     30.    165.     34.3     0.203  33.   ] -> Pred: 0.0 vs Diag: 1.0\n",
      "[  2.  127.   58.   24.  275.   27.7   1.6  25. ] -> Pred: 0.0 vs Diag: 0.0\n",
      "[ 0.    74.    52.    10.    36.    27.8    0.269 22.   ] -> Pred: 0.0 vs Diag: 0.0\n",
      "[  6.    125.     78.     31.      0.     27.6     0.565  49.   ] -> Pred: 0.0 vs Diag: 1.0\n",
      "[ 0.    84.    64.    22.    66.    35.8    0.545 21.   ] -> Pred: 0.0 vs Diag: 0.0\n",
      "[  2.     82.     52.     22.    115.     28.5     1.699  25.   ] -> Pred: 0.0 vs Diag: 0.0\n",
      "[  5.    108.     72.     43.     75.     36.1     0.263  33.   ] -> Pred: 0.0 vs Diag: 0.0\n",
      "[  1.    128.     88.     39.    110.     36.5     1.057  37.   ] -> Pred: 0.0 vs Diag: 1.0\n",
      "[  6.    115.     60.     39.      0.     33.7     0.245  40.   ] -> Pred: 0.0 vs Diag: 1.0\n",
      "[  6.    119.     50.     22.    176.     27.1     1.318  33.   ] -> Pred: 0.0 vs Diag: 1.0\n",
      "[6.00e+00 8.70e+01 8.00e+01 0.00e+00 0.00e+00 2.32e+01 8.40e-02 3.20e+01] -> Pred: 0.0 vs Diag: 0.0\n",
      "[4.00e+00 1.54e+02 6.20e+01 3.10e+01 2.84e+02 3.28e+01 2.37e-01 2.30e+01] -> Pred: 0.0 vs Diag: 0.0\n",
      "[  1.     91.     54.     25.    100.     25.2     0.234  23.   ] -> Pred: 0.0 vs Diag: 0.0\n",
      "[ 1.    77.    56.    30.    56.    33.3    1.251 24.   ] -> Pred: 0.0 vs Diag: 0.0\n",
      "[  0.   126.    84.    29.   215.    30.7    0.52  24.  ] -> Pred: 0.0 vs Diag: 0.0\n",
      "[ 1.    88.    78.    29.    76.    32.     0.365 29.   ] -> Pred: 0.0 vs Diag: 0.0\n",
      "[  1.    125.     50.     40.    167.     33.3     0.962  28.   ] -> Pred: 0.0 vs Diag: 1.0\n",
      "[ 5.     0.    80.    32.     0.    41.     0.346 37.   ] -> Pred: 0.0 vs Diag: 1.0\n",
      "[  7.    142.     60.     33.    190.     28.8     0.687  61.   ] -> Pred: 1.0 vs Diag: 0.0\n",
      "[ 11.    155.     76.     28.    150.     33.3     1.353  51.   ] -> Pred: 1.0 vs Diag: 1.0\n",
      "[ 2.   92.   62.   28.    0.   31.6   0.13 24.  ] -> Pred: 0.0 vs Diag: 0.0\n",
      "[  3.    158.     70.     30.    328.     35.5     0.344  35.   ] -> Pred: 1.0 vs Diag: 1.0\n",
      "[  1.    143.     74.     22.     61.     26.2     0.256  21.   ] -> Pred: 0.0 vs Diag: 0.0\n",
      "[8.00e+00 1.43e+02 6.60e+01 0.00e+00 0.00e+00 3.49e+01 1.29e-01 4.10e+01] -> Pred: 1.0 vs Diag: 1.0\n",
      "[ 4.   96.   56.   17.   49.   20.8   0.34 26.  ] -> Pred: 0.0 vs Diag: 0.0\n",
      "[  0.    105.     84.      0.      0.     27.9     0.741  62.   ] -> Pred: 0.0 vs Diag: 1.0\n",
      "[ 4.    84.    90.    23.    56.    39.5    0.159 25.   ] -> Pred: 0.0 vs Diag: 0.0\n",
      "[  1.    117.     88.     24.    145.     34.5     0.403  40.   ] -> Pred: 0.0 vs Diag: 1.0\n",
      "[  2.    124.     68.     28.    205.     32.9     0.875  30.   ] -> Pred: 0.0 vs Diag: 1.0\n",
      "[  0.    131.     88.      0.      0.     31.6     0.743  32.   ] -> Pred: 0.0 vs Diag: 1.0\n",
      "[  1.    114.     66.     36.    200.     38.1     0.289  21.   ] -> Pred: 0.0 vs Diag: 0.0\n",
      "[  1.    126.     60.      0.      0.     30.1     0.349  47.   ] -> Pred: 0.0 vs Diag: 1.0\n",
      "[ 11.    120.     80.     37.    150.     42.3     0.785  48.   ] -> Pred: 1.0 vs Diag: 1.0\n",
      "[  4.    158.     78.      0.      0.     32.9     0.803  31.   ] -> Pred: 1.0 vs Diag: 1.0\n",
      "[  9.   112.    82.    32.   175.    34.2    0.26  36.  ] -> Pred: 0.0 vs Diag: 1.0\n",
      "[  0.    106.     70.     37.    148.     39.4     0.605  22.   ] -> Pred: 0.0 vs Diag: 0.0\n",
      "[  1.    128.     48.     45.    194.     40.5     0.613  24.   ] -> Pred: 0.0 vs Diag: 1.0\n",
      "[ 0.    73.     0.     0.     0.    21.1    0.342 25.   ] -> Pred: 0.0 vs Diag: 0.0\n",
      "[5.00e+00 1.62e+02 1.04e+02 0.00e+00 0.00e+00 3.77e+01 1.51e-01 5.20e+01] -> Pred: 1.0 vs Diag: 1.0\n",
      "[  0.    131.     66.     40.      0.     34.3     0.196  22.   ] -> Pred: 0.0 vs Diag: 1.0\n",
      "[ 1.    90.    68.     8.     0.    24.5    1.138 36.   ] -> Pred: 0.0 vs Diag: 0.0\n",
      "[  9.    123.     70.     44.     94.     33.1     0.374  40.   ] -> Pred: 0.0 vs Diag: 0.0\n",
      "[ 10.    168.     74.      0.      0.     38.      0.537  34.   ] -> Pred: 1.0 vs Diag: 1.0\n",
      "[6.00e+00 9.20e+01 6.20e+01 3.20e+01 1.26e+02 3.20e+01 8.50e-02 4.60e+01] -> Pred: 0.0 vs Diag: 0.0\n",
      "[ 4.    90.    88.    47.    54.    37.7    0.362 29.   ] -> Pred: 0.0 vs Diag: 0.0\n",
      "[  1.    135.     54.      0.      0.     26.7     0.687  62.   ] -> Pred: 0.0 vs Diag: 0.0\n",
      "[ 3.    87.    60.    18.     0.    21.8    0.444 21.   ] -> Pred: 0.0 vs Diag: 0.0\n",
      "[ 2.    88.    74.    19.    53.    29.     0.229 22.   ] -> Pred: 0.0 vs Diag: 0.0\n",
      "[  0.    108.     68.     20.      0.     27.3     0.787  32.   ] -> Pred: 0.0 vs Diag: 0.0\n",
      "[  5.    132.     80.      0.      0.     26.8     0.186  69.   ] -> Pred: 0.0 vs Diag: 0.0\n",
      "[  0.    129.    110.     46.    130.     67.1     0.319  26.   ] -> Pred: 1.0 vs Diag: 1.0\n",
      "[  6.    166.     74.      0.      0.     26.6     0.304  66.   ] -> Pred: 1.0 vs Diag: 0.0\n",
      "[  5.   166.    76.     0.     0.    45.7    0.34  27.  ] -> Pred: 1.0 vs Diag: 1.0\n",
      "[ 4.   90.    0.    0.    0.   28.    0.61 31.  ] -> Pred: 0.0 vs Diag: 0.0\n",
      "[  7.    196.     90.      0.      0.     39.8     0.451  41.   ] -> Pred: 1.0 vs Diag: 1.0\n",
      "[  2.    122.     76.     27.    200.     35.9     0.483  26.   ] -> Pred: 0.0 vs Diag: 0.0\n",
      "[7.00e+00 1.42e+02 9.00e+01 2.40e+01 4.80e+02 3.04e+01 1.28e-01 4.30e+01] -> Pred: 0.0 vs Diag: 1.0\n",
      "[  6.    144.     72.     27.    228.     33.9     0.255  40.   ] -> Pred: 1.0 vs Diag: 0.0\n",
      "[2.00e+00 1.57e+02 7.40e+01 3.50e+01 4.40e+02 3.94e+01 1.34e-01 3.00e+01] -> Pred: 1.0 vs Diag: 0.0\n",
      "[  2.    112.     78.     50.    140.     39.4     0.175  24.   ] -> Pred: 0.0 vs Diag: 0.0\n",
      "[  4.   111.    72.    47.   207.    37.1    1.39  56.  ] -> Pred: 0.0 vs Diag: 1.0\n",
      "[ 3.    78.    50.    32.    88.    31.     0.248 26.   ] -> Pred: 0.0 vs Diag: 1.0\n",
      "[  6.    105.     80.     28.      0.     32.5     0.878  26.   ] -> Pred: 0.0 vs Diag: 0.0\n",
      "[  7.    147.     76.      0.      0.     39.4     0.257  43.   ] -> Pred: 1.0 vs Diag: 1.0\n",
      "[  4.    144.     58.     28.    140.     29.5     0.287  37.   ] -> Pred: 0.0 vs Diag: 0.0\n",
      "[  8.    124.     76.     24.    600.     28.7     0.687  52.   ] -> Pred: 0.0 vs Diag: 1.0\n",
      "[  6.    154.     74.     32.    193.     29.3     0.839  39.   ] -> Pred: 1.0 vs Diag: 0.0\n",
      "[ 2.    81.    72.    15.    76.    30.1    0.547 25.   ] -> Pred: 0.0 vs Diag: 0.0\n",
      "[  2.   122.    70.    27.     0.    36.8    0.34  27.  ] -> Pred: 0.0 vs Diag: 0.0\n",
      "[ 3.    99.    80.    11.    64.    19.3    0.284 30.   ] -> Pred: 0.0 vs Diag: 0.0\n",
      "[  0.    177.     60.     29.    478.     34.6     1.072  21.   ] -> Pred: 1.0 vs Diag: 1.0\n",
      "[  8.   109.    76.    39.   114.    27.9    0.64  31.  ] -> Pred: 0.0 vs Diag: 1.0\n",
      "[  0.   145.     0.     0.     0.    44.2    0.63  31.  ] -> Pred: 1.0 vs Diag: 1.0\n",
      "[0.00e+00 1.37e+02 6.80e+01 1.40e+01 1.48e+02 2.48e+01 1.43e-01 2.10e+01] -> Pred: 0.0 vs Diag: 0.0\n",
      "[  2.    128.     78.     37.    182.     43.3     1.224  31.   ] -> Pred: 1.0 vs Diag: 1.0\n",
      "[ 0.    98.    82.    15.    84.    25.2    0.299 22.   ] -> Pred: 0.0 vs Diag: 0.0\n",
      "[  4.    146.     85.     27.    100.     28.9     0.189  27.   ] -> Pred: 0.0 vs Diag: 0.0\n",
      "[  7.    133.     88.     15.    155.     32.4     0.262  37.   ] -> Pred: 0.0 vs Diag: 0.0\n",
      "[  5.    158.     70.      0.      0.     29.8     0.207  63.   ] -> Pred: 1.0 vs Diag: 0.0\n",
      "[  0.    104.     76.      0.      0.     18.4     0.582  27.   ] -> Pred: 0.0 vs Diag: 0.0\n",
      "[  8.    183.     64.      0.      0.     23.3     0.672  32.   ] -> Pred: 1.0 vs Diag: 1.0\n",
      "[2.00e+00 1.14e+02 6.80e+01 2.20e+01 0.00e+00 2.87e+01 9.20e-02 2.50e+01] -> Pred: 0.0 vs Diag: 0.0\n",
      "[  2.    100.     68.     25.     71.     38.5     0.324  26.   ] -> Pred: 0.0 vs Diag: 0.0\n",
      "[ 5.    73.    60.     0.     0.    26.8    0.268 27.   ] -> Pred: 0.0 vs Diag: 0.0\n",
      "[  2.     93.     64.     32.    160.     38.      0.674  23.   ] -> Pred: 0.0 vs Diag: 1.0\n",
      "[  2.     99.     60.     17.    160.     36.6     0.453  21.   ] -> Pred: 0.0 vs Diag: 0.0\n",
      "[ 0.    99.     0.     0.     0.    25.     0.253 22.   ] -> Pred: 0.0 vs Diag: 0.0\n",
      "[ 0.    57.    60.     0.     0.    21.7    0.735 67.   ] -> Pred: 0.0 vs Diag: 0.0\n",
      "[  9.    165.     88.      0.      0.     30.4     0.302  49.   ] -> Pred: 1.0 vs Diag: 1.0\n",
      "[  2.    106.     56.     27.    165.     29.      0.426  22.   ] -> Pred: 0.0 vs Diag: 0.0\n",
      "[  3.    169.     74.     19.    125.     29.9     0.268  31.   ] -> Pred: 1.0 vs Diag: 1.0\n",
      "[ 3.    82.    70.     0.     0.    21.1    0.389 25.   ] -> Pred: 0.0 vs Diag: 0.0\n",
      "[ 6.    92.    92.     0.     0.    19.9    0.188 28.   ] -> Pred: 0.0 vs Diag: 0.0\n",
      "[  0.    198.     66.     32.    274.     41.3     0.502  28.   ] -> Pred: 1.0 vs Diag: 1.0\n",
      "[  3.    122.     78.      0.      0.     23.      0.254  40.   ] -> Pred: 0.0 vs Diag: 0.0\n",
      "[  3.    106.     72.      0.      0.     25.8     0.207  27.   ] -> Pred: 0.0 vs Diag: 0.0\n",
      "[ 0.    91.    80.     0.     0.    32.4    0.601 27.   ] -> Pred: 0.0 vs Diag: 0.0\n",
      "[  2.    105.     58.     40.     94.     34.9     0.225  25.   ] -> Pred: 0.0 vs Diag: 0.0\n",
      "[ 5.    96.    74.    18.    67.    33.6    0.997 43.   ] -> Pred: 0.0 vs Diag: 0.0\n",
      "[0.00e+00 1.65e+02 9.00e+01 3.30e+01 6.80e+02 5.23e+01 4.27e-01 2.30e+01] -> Pred: 1.0 vs Diag: 0.0\n",
      "[  0.    162.     76.     56.    100.     53.2     0.759  25.   ] -> Pred: 1.0 vs Diag: 1.0\n",
      "[  0.    135.     68.     42.    250.     42.3     0.365  24.   ] -> Pred: 0.0 vs Diag: 1.0\n",
      "[ 1.    97.    70.    40.     0.    38.1    0.218 30.   ] -> Pred: 0.0 vs Diag: 0.0\n",
      "[  2.    100.     66.     20.     90.     32.9     0.867  28.   ] -> Pred: 0.0 vs Diag: 1.0\n",
      "[  2.    101.     58.     17.    265.     24.2     0.614  23.   ] -> Pred: 0.0 vs Diag: 0.0\n",
      "[ 15.    136.     70.     32.    110.     37.1     0.153  43.   ] -> Pred: 1.0 vs Diag: 1.0\n",
      "[  5.    136.     84.     41.     88.     35.      0.286  35.   ] -> Pred: 0.0 vs Diag: 1.0\n",
      "[  3.    111.     90.     12.     78.     28.4     0.495  29.   ] -> Pred: 0.0 vs Diag: 0.0\n",
      "[  9.    130.     70.      0.      0.     34.2     0.652  45.   ] -> Pred: 1.0 vs Diag: 1.0\n",
      "[  2.    112.     75.     32.      0.     35.7     0.148  21.   ] -> Pred: 0.0 vs Diag: 0.0\n",
      "[  1.    116.     70.     28.      0.     27.4     0.204  21.   ] -> Pred: 0.0 vs Diag: 0.0\n",
      "[  2.    119.      0.      0.      0.     19.6     0.832  72.   ] -> Pred: 0.0 vs Diag: 0.0\n",
      "[  0.    100.     88.     60.    110.     46.8     0.962  31.   ] -> Pred: 0.0 vs Diag: 0.0\n",
      "[ 5.    78.    48.     0.     0.    33.7    0.654 25.   ] -> Pred: 0.0 vs Diag: 0.0\n",
      "[  4.    134.     72.      0.      0.     23.8     0.277  60.   ] -> Pred: 0.0 vs Diag: 1.0\n",
      "[ 13.    106.     70.      0.      0.     34.2     0.251  52.   ] -> Pred: 0.0 vs Diag: 0.0\n",
      "[ 1.    79.    75.    30.     0.    32.     0.396 22.   ] -> Pred: 0.0 vs Diag: 0.0\n",
      "[  5.    130.     82.      0.      0.     39.1     0.956  37.   ] -> Pred: 1.0 vs Diag: 1.0\n",
      "[  7.    178.     84.      0.      0.     39.9     0.331  41.   ] -> Pred: 1.0 vs Diag: 1.0\n",
      "[  3.  102.   44.   20.   94.   30.8   0.4  26. ] -> Pred: 0.0 vs Diag: 0.0\n",
      "[  1.    138.     82.      0.      0.     40.1     0.236  28.   ] -> Pred: 0.0 vs Diag: 0.0\n",
      "[  9.   106.    52.     0.     0.    31.2    0.38  42.  ] -> Pred: 0.0 vs Diag: 0.0\n",
      "[ 0.    86.    68.    32.     0.    35.8    0.238 25.   ] -> Pred: 0.0 vs Diag: 0.0\n",
      "[ 10.    115.      0.      0.      0.      0.      0.261  30.   ] -> Pred: 0.0 vs Diag: 1.0\n",
      "[  0.    105.     90.      0.      0.     29.6     0.197  46.   ] -> Pred: 0.0 vs Diag: 0.0\n",
      "[  1.    136.     74.     50.    204.     37.4     0.399  24.   ] -> Pred: 0.0 vs Diag: 0.0\n",
      "[ 1.   95.   60.   18.   58.   23.9   0.26 22.  ] -> Pred: 0.0 vs Diag: 0.0\n",
      "[  2.    111.     60.      0.      0.     26.2     0.343  23.   ] -> Pred: 0.0 vs Diag: 0.0\n",
      "[  1.    128.     98.     41.     58.     32.      1.321  33.   ] -> Pred: 0.0 vs Diag: 1.0\n",
      "[  6.    134.     70.     23.    130.     35.4     0.542  29.   ] -> Pred: 0.0 vs Diag: 1.0\n",
      "[1.00e+00 1.73e+02 7.40e+01 0.00e+00 0.00e+00 3.68e+01 8.80e-02 3.80e+01] -> Pred: 1.0 vs Diag: 1.0\n",
      "[  2.    144.     58.     33.    135.     31.6     0.422  25.   ] -> Pred: 0.0 vs Diag: 1.0\n",
      "[ 1.    86.    66.    52.    65.    41.3    0.917 29.   ] -> Pred: 0.0 vs Diag: 0.0\n",
      "[  3.   111.    58.    31.    44.    29.5    0.43  22.  ] -> Pred: 0.0 vs Diag: 0.0\n",
      "[  1.    143.     86.     30.    330.     30.1     0.892  23.   ] -> Pred: 0.0 vs Diag: 0.0\n",
      "[  0.    134.     58.     20.    291.     26.4     0.352  21.   ] -> Pred: 0.0 vs Diag: 0.0\n",
      "[  2.    108.     62.     32.     56.     25.2     0.128  21.   ] -> Pred: 0.0 vs Diag: 0.0\n",
      "[  6.    105.     70.     32.     68.     30.8     0.122  37.   ] -> Pred: 0.0 vs Diag: 0.0\n",
      "[ 8.    99.    84.     0.     0.    35.4    0.388 50.   ] -> Pred: 0.0 vs Diag: 0.0\n",
      "[7.00e+00 1.87e+02 6.80e+01 3.90e+01 3.04e+02 3.77e+01 2.54e-01 4.10e+01] -> Pred: 1.0 vs Diag: 1.0\n",
      "[ 14.    100.     78.     25.    184.     36.6     0.412  46.   ] -> Pred: 0.0 vs Diag: 1.0\n",
      "[ 4.    97.    60.    23.     0.    28.2    0.443 22.   ] -> Pred: 0.0 vs Diag: 0.0\n",
      "[  1.    117.     60.     23.    106.     33.8     0.466  27.   ] -> Pred: 0.0 vs Diag: 0.0\n",
      "[  2.   105.    75.     0.     0.    23.3    0.56  53.  ] -> Pred: 0.0 vs Diag: 0.0\n",
      "[  1.    100.     74.     12.     46.     19.5     0.149  28.   ] -> Pred: 0.0 vs Diag: 0.0\n",
      "[  0.    137.     84.     27.      0.     27.3     0.231  59.   ] -> Pred: 0.0 vs Diag: 0.0\n",
      "[ 1.    71.    48.    18.    76.    20.4    0.323 22.   ] -> Pred: 0.0 vs Diag: 0.0\n",
      "[  3.    124.     80.     33.    130.     33.2     0.305  26.   ] -> Pred: 0.0 vs Diag: 0.0\n",
      "[  3.    129.     64.     29.    115.     26.4     0.219  28.   ] -> Pred: 0.0 vs Diag: 1.0\n",
      "[  0.    167.      0.      0.      0.     32.3     0.839  30.   ] -> Pred: 1.0 vs Diag: 1.0\n",
      "[2.00e+00 1.46e+02 7.00e+01 3.80e+01 3.60e+02 2.80e+01 3.37e-01 2.90e+01] -> Pred: 0.0 vs Diag: 1.0\n",
      "[ 12.    121.     78.     17.      0.     26.5     0.259  62.   ] -> Pred: 0.0 vs Diag: 0.0\n",
      "[  1.     84.     64.     23.    115.     36.9     0.471  28.   ] -> Pred: 0.0 vs Diag: 0.0\n",
      "[  7.    152.     88.     44.      0.     50.      0.337  36.   ] -> Pred: 1.0 vs Diag: 1.0\n",
      "[  1.    118.     58.     36.     94.     33.3     0.261  23.   ] -> Pred: 0.0 vs Diag: 0.0\n",
      "[  0.    179.     50.     36.    159.     37.8     0.455  22.   ] -> Pred: 1.0 vs Diag: 1.0\n",
      "[ 5.    99.    54.    28.    83.    34.     0.499 30.   ] -> Pred: 0.0 vs Diag: 0.0\n",
      "[  1.    144.     82.     40.      0.     41.3     0.607  28.   ] -> Pred: 1.0 vs Diag: 0.0\n",
      "[  7.    105.      0.      0.      0.      0.      0.305  24.   ] -> Pred: 0.0 vs Diag: 0.0\n",
      "[ 10.    115.     98.      0.      0.     24.      1.022  34.   ] -> Pred: 0.0 vs Diag: 0.0\n",
      "[  4.   117.    62.    12.     0.    29.7    0.38  30.  ] -> Pred: 0.0 vs Diag: 1.0\n",
      "[  6.    129.     90.      7.    326.     19.6     0.582  60.   ] -> Pred: 0.0 vs Diag: 0.0\n",
      "[  2.    122.     52.     43.    158.     36.2     0.816  28.   ] -> Pred: 0.0 vs Diag: 0.0\n",
      "[8.00e+00 1.67e+02 1.06e+02 4.60e+01 2.31e+02 3.76e+01 1.65e-01 4.30e+01] -> Pred: 1.0 vs Diag: 1.0\n",
      "[ 1.    91.    64.    24.     0.    29.2    0.192 21.   ] -> Pred: 0.0 vs Diag: 0.0\n",
      "[  3.    126.     88.     41.    235.     39.3     0.704  27.   ] -> Pred: 0.0 vs Diag: 0.0\n",
      "[  1.  108.   88.   19.    0.   27.1   0.4  24. ] -> Pred: 0.0 vs Diag: 0.0\n",
      "[  1.    113.     64.     35.      0.     33.6     0.543  21.   ] -> Pred: 0.0 vs Diag: 1.0\n",
      "[2.00e+00 9.00e+01 7.00e+01 1.70e+01 0.00e+00 2.73e+01 8.50e-02 2.20e+01] -> Pred: 0.0 vs Diag: 0.0\n",
      "[ 3.    89.    74.    16.    85.    30.4    0.551 38.   ] -> Pred: 0.0 vs Diag: 0.0\n",
      "[ 10.    148.     84.     48.    237.     37.6     1.001  51.   ] -> Pred: 1.0 vs Diag: 1.0\n",
      "[  0.    137.     40.     35.    168.     43.1     2.288  33.   ] -> Pred: 1.0 vs Diag: 1.0\n",
      "[ 3.    99.    54.    19.    86.    25.6    0.154 24.   ] -> Pred: 0.0 vs Diag: 0.0\n",
      "[  0.    189.    104.     25.      0.     34.3     0.435  41.   ] -> Pred: 1.0 vs Diag: 1.0\n",
      "[  6.    147.     80.      0.      0.     29.5     0.178  50.   ] -> Pred: 1.0 vs Diag: 1.0\n",
      "[ 1.    97.    64.    19.    82.    18.2    0.299 21.   ] -> Pred: 0.0 vs Diag: 0.0\n",
      "[10.    94.    72.    18.     0.    23.1    0.595 56.   ] -> Pred: 0.0 vs Diag: 0.0\n",
      "[ 0.    93.    60.    25.    92.    28.7    0.532 22.   ] -> Pred: 0.0 vs Diag: 0.0\n",
      "[ 1.    99.    72.    30.    18.    38.6    0.412 21.   ] -> Pred: 0.0 vs Diag: 0.0\n",
      "[ 0.    95.    85.    25.    36.    37.4    0.247 24.   ] -> Pred: 0.0 vs Diag: 1.0\n",
      "[  1.    112.     72.     30.    176.     34.4     0.528  25.   ] -> Pred: 0.0 vs Diag: 0.0\n",
      "[ 14.    175.     62.     30.      0.     33.6     0.212  38.   ] -> Pred: 1.0 vs Diag: 1.0\n",
      "[  0.    188.     82.     14.    185.     32.      0.682  22.   ] -> Pred: 1.0 vs Diag: 1.0\n",
      "[ 10.    161.     68.     23.    132.     25.5     0.326  47.   ] -> Pred: 1.0 vs Diag: 1.0\n",
      "[  5.    111.     72.     28.      0.     23.9     0.407  27.   ] -> Pred: 0.0 vs Diag: 0.0\n",
      "[  4.    128.     70.      0.      0.     34.3     0.303  24.   ] -> Pred: 0.0 vs Diag: 0.0\n",
      "[ 10.    129.     62.     36.      0.     41.2     0.441  38.   ] -> Pred: 1.0 vs Diag: 1.0\n",
      "[ 9.  91.  68.   0.   0.  24.2  0.2 58. ] -> Pred: 0.0 vs Diag: 0.0\n",
      "[  9.    112.     82.     24.      0.     28.2     1.282  50.   ] -> Pred: 0.0 vs Diag: 1.0\n",
      "[ 12.    140.     82.     43.    325.     39.2     0.528  58.   ] -> Pred: 1.0 vs Diag: 1.0\n",
      "[ 4.    95.    60.    32.     0.    35.4    0.284 28.   ] -> Pred: 0.0 vs Diag: 0.0\n",
      "[ 2.   85.   65.    0.    0.   39.6   0.93 27.  ] -> Pred: 0.0 vs Diag: 0.0\n"
     ]
    }
   ],
   "source": [
    "prediction = model.predict(X_test)\n",
    "for instance, pred, diag in zip(X_test, prediction, Y_test):\n",
    "    print(f'{instance} -> Pred: {pred} vs Diag: {diag}')\n",
    "    "
   ]
  },
  {
   "cell_type": "markdown",
   "id": "9f30abe8",
   "metadata": {},
   "source": [
    "## Live Prediction"
   ]
  },
  {
   "cell_type": "code",
   "execution_count": null,
   "id": "de6b5894",
   "metadata": {},
   "outputs": [],
   "source": [
    "# Sauvegarder le model en local (disk) pour l'utiliser dans une application\n",
    "import pickle\n",
    "model_name = 'diabetes_model.pkl'\n",
    "pickle.dump(model, open(model_name, 'wb'))\n"
   ]
  },
  {
   "cell_type": "code",
   "execution_count": null,
   "id": "60e6e4bc",
   "metadata": {},
   "outputs": [],
   "source": [
    "# Importer le modèle\n",
    "model_name = 'diabetes_model.pkl'\n",
    "loaded_model = pickle.load(open(model_name, 'rb'))"
   ]
  },
  {
   "cell_type": "code",
   "execution_count": null,
   "id": "c9913fa6",
   "metadata": {},
   "outputs": [
    {
     "name": "stdout",
     "output_type": "stream",
     "text": [
      "Class: 1, Probability: [[0.18819645 0.81180355]]\n",
      "Class: 0, Probability: [[0.87684293 0.12315707]]\n",
      "Class: 1, Probability: [[0.24564393 0.75435607]]\n"
     ]
    }
   ],
   "source": [
    "# New data\n",
    "import numpy\n",
    "patient1 = [11,119,0,30,0,39.9,0.47,32]\n",
    "patient1_array = numpy.array(patient1)\n",
    "pred, proba = int(loaded_model.predict([patient1_array])), loaded_model.predict_proba([patient1_array])\n",
    "print(f'Class: {pred}, Probability: {proba}')\n",
    "patient2 = [10,67,74,40,54,35.3,0.378,38]\n",
    "patient2_array = numpy.array(patient2)\n",
    "pred, proba = int(loaded_model.predict([patient2_array])), loaded_model.predict_proba([patient2_array])\n",
    "print(f'Class: {pred}, Probability: {proba}')\n",
    "patient3 = [1,184,76,36,249,36.5,0.775,27]\n",
    "patient3_array = numpy.array(patient3)\n",
    "pred, proba = int(loaded_model.predict([patient3_array])), loaded_model.predict_proba([patient3_array])\n",
    "print(f'Class: {pred}, Probability: {proba}')\n"
   ]
  },
  {
   "cell_type": "code",
   "execution_count": null,
   "id": "81496985",
   "metadata": {},
   "outputs": [
    {
     "name": "stdout",
     "output_type": "stream",
     "text": [
      "Class: 1, Probability: [0.18819645 0.81180355]\n",
      "Class: 0, Probability: [0.87684293 0.12315707]\n",
      "Class: 1, Probability: [0.24564393 0.75435607]\n"
     ]
    }
   ],
   "source": [
    "patient1 = [11,119,0,30,0,39.9,0.47,32]\n",
    "patient1_array = numpy.array(patient1)\n",
    "pred, proba = int(loaded_model.predict([patient1_array])), loaded_model.predict_proba([patient1_array])[0]\n",
    "print(f'Class: {pred}, Probability: {proba}')\n",
    "patient2 = [10,67,74,40,54,35.3,0.378,38]\n",
    "patient2_array = numpy.array(patient2)\n",
    "pred, proba = int(loaded_model.predict([patient2_array])), loaded_model.predict_proba([patient2_array])[0]\n",
    "print(f'Class: {pred}, Probability: {proba}')\n",
    "patient3 = [1,184,76,36,249,36.5,0.775,27]\n",
    "patient3_array = numpy.array(patient3)\n",
    "pred, proba = int(loaded_model.predict([patient3_array])), loaded_model.predict_proba([patient3_array])[0]\n",
    "print(f'Class: {pred}, Probability: {proba}')\n"
   ]
  },
  {
   "cell_type": "code",
   "execution_count": null,
   "id": "960c22d1",
   "metadata": {},
   "outputs": [
    {
     "name": "stdout",
     "output_type": "stream",
     "text": [
      "Class: 1, Probability: 0.8118035502642829\n",
      "Class: 0, Probability: 0.8768429270572059\n",
      "Class: 1, Probability: 0.7543560676146516\n"
     ]
    }
   ],
   "source": [
    "patient1 = [11,119,0,30,0,39.9,0.47,32]\n",
    "patient1_array = numpy.array(patient1)\n",
    "pred, proba = int(loaded_model.predict([patient1_array])), loaded_model.predict_proba([patient1_array])[0]\n",
    "print(f'Class: {pred}, Probability: {proba[pred]}')\n",
    "patient2 = [10,67,74,40,54,35.3,0.378,38]\n",
    "patient2_array = numpy.array(patient2)\n",
    "pred, proba = int(loaded_model.predict([patient2_array])), loaded_model.predict_proba([patient2_array])[0]\n",
    "print(f'Class: {pred}, Probability: {proba[pred]}')\n",
    "patient3 = [1,184,76,36,249,36.5,0.775,27]\n",
    "patient3_array = numpy.array(patient3)\n",
    "pred, proba = int(loaded_model.predict([patient3_array])), loaded_model.predict_proba([patient3_array])[0]\n",
    "print(f'Class: {pred}, Probability: {proba[pred]}')\n"
   ]
  }
 ],
 "metadata": {
  "kernelspec": {
   "display_name": "env",
   "language": "python",
   "name": "python3"
  },
  "language_info": {
   "codemirror_mode": {
    "name": "ipython",
    "version": 3
   },
   "file_extension": ".py",
   "mimetype": "text/x-python",
   "name": "python",
   "nbconvert_exporter": "python",
   "pygments_lexer": "ipython3",
   "version": "3.12.4"
  }
 },
 "nbformat": 4,
 "nbformat_minor": 5
}
