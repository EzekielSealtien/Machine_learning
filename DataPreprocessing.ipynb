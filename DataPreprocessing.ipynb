{
 "cells": [
  {
   "cell_type": "markdown",
   "id": "bcde9195-e85f-4528-a0bd-12df6b98c695",
   "metadata": {},
   "source": [
    "## Ordinal encoder"
   ]
  },
  {
   "cell_type": "code",
   "execution_count": 1,
   "id": "b775877f-ae62-4408-9ba1-16ab88b2e271",
   "metadata": {},
   "outputs": [
    {
     "name": "stdout",
     "output_type": "stream",
     "text": [
      "Initial data\n",
      "-----------\n",
      "[['red']\n",
      " ['green']\n",
      " ['blue']]\n",
      "Encoded data\n",
      "-----------\n",
      "[[2]\n",
      " [1]\n",
      " [0]]\n"
     ]
    }
   ],
   "source": [
    "# Example of ordinal modeling\n",
    "import pandas as pd\n",
    "from numpy import asarray\n",
    "from sklearn.preprocessing import OrdinalEncoder\n",
    "# Create data\n",
    "data = asarray([['red'], ['green'], ['blue']])\n",
    "print(f'Initial data\\n-----------\\n{data}')\n",
    "# Define ordinal encoding\n",
    "encoder = OrdinalEncoder()\n",
    "# Transform ordinal to numerical values\n",
    "transformed_data = encoder.fit_transform(data).astype('int')\n",
    "print(f'Encoded data\\n-----------\\n{transformed_data}')"
   ]
  },
  {
   "cell_type": "code",
   "execution_count": 2,
   "id": "24d7a68e-61c5-4617-a505-d99703fb16ca",
   "metadata": {},
   "outputs": [
    {
     "name": "stdout",
     "output_type": "stream",
     "text": [
      "{'name': ['Jugurtha', 'Saran', 'Milton', 'Simeon'], 'degree': ['Master', 'Phd', 'Bachelor', 'Phd']}\n",
      "Original dataframe\n",
      "---------------------\n",
      "       name    degree\n",
      "0  Jugurtha    Master\n",
      "1     Saran       Phd\n",
      "2    Milton  Bachelor\n",
      "3    Simeon       Phd\n",
      "Ordinal dataframe\n",
      "---------------------\n",
      "       name  degree\n",
      "0  Jugurtha       2\n",
      "1     Saran       3\n",
      "2    Milton       1\n",
      "3    Simeon       3\n"
     ]
    }
   ],
   "source": [
    "# Sample dataframe\n",
    "data_values = {'name': ['Jugurtha', 'Saran', 'Milton', 'Simeon'],\n",
    "                'degree': ['Master', 'Phd', 'Bachelor', 'Phd']}\n",
    "print(data_values)\n",
    "df = pd.DataFrame(data_values)\n",
    "print(f'Original dataframe\\n---------------------\\n{df}')\n",
    "# Replace the degree\n",
    "ordinal_degree = {'Phd':3, 'Master':2, 'Bachelor':1, 'aec': 0}\n",
    "df['degree'] = df['degree'].replace(ordinal_degree)\n",
    "print(f'Ordinal dataframe\\n---------------------\\n{df}')\n"
   ]
  },
  {
   "cell_type": "markdown",
   "id": "f1baa7ec-eeff-4a3b-a031-5a95c4bb2165",
   "metadata": {},
   "source": [
    "## One-Hot Enconding"
   ]
  },
  {
   "cell_type": "code",
   "execution_count": 3,
   "id": "554fed4f-685c-439f-b98e-cd5cdee4694c",
   "metadata": {},
   "outputs": [
    {
     "name": "stdout",
     "output_type": "stream",
     "text": [
      "Initial data\n",
      "-----------\n",
      "[['red']\n",
      " ['green']\n",
      " ['blue']]\n",
      "Encoded data\n",
      "-----------\n",
      "[[0. 0. 1.]\n",
      " [0. 1. 0.]\n",
      " [1. 0. 0.]]\n"
     ]
    }
   ],
   "source": [
    "# Example of One-Hot Enconding modeling\n",
    "import pandas as pd\n",
    "from numpy import asarray\n",
    "from sklearn.preprocessing import OneHotEncoder\n",
    "# Create data\n",
    "data = asarray([['red'], ['green'], ['blue']])\n",
    "print(f'Initial data\\n-----------\\n{data}')\n",
    "# Define ordinal encoding\n",
    "encoder = OneHotEncoder(sparse=False)\n",
    "# Transform ordinal to numerical values\n",
    "transformed_data = encoder.fit_transform(data)\n",
    "print(f'Encoded data\\n-----------\\n{transformed_data}')"
   ]
  },
  {
   "cell_type": "markdown",
   "id": "7fd92c74-c09e-48af-9b34-972786563e7e",
   "metadata": {},
   "source": [
    "## Dummy variable Encoding"
   ]
  },
  {
   "cell_type": "code",
   "execution_count": 4,
   "id": "3068ae85-231e-42e4-b3f9-b21bf9760b56",
   "metadata": {},
   "outputs": [
    {
     "name": "stdout",
     "output_type": "stream",
     "text": [
      "Initial data\n",
      "-----------\n",
      "[['red']\n",
      " ['green']\n",
      " ['blue']]\n",
      "Encoded data\n",
      "-----------\n",
      "[[0. 1.]\n",
      " [1. 0.]\n",
      " [0. 0.]]\n"
     ]
    }
   ],
   "source": [
    "# Example of One-Hot Enconding modeling\n",
    "import pandas as pd\n",
    "from numpy import asarray\n",
    "from sklearn.preprocessing import OneHotEncoder\n",
    "# Create data\n",
    "data = asarray([['red'], ['green'], ['blue']])\n",
    "print(f'Initial data\\n-----------\\n{data}')\n",
    "# Define ordinal encoding\n",
    "encoder = OneHotEncoder(drop = 'first', sparse=False)\n",
    "# Transform ordinal to numerical values\n",
    "transformed_data = encoder.fit_transform(data)\n",
    "print(f'Encoded data\\n-----------\\n{transformed_data}')"
   ]
  },
  {
   "cell_type": "code",
   "execution_count": 5,
   "id": "c77d2c39-4004-4dd0-a980-032cccd620d3",
   "metadata": {},
   "outputs": [
    {
     "name": "stdout",
     "output_type": "stream",
     "text": [
      "Data loaded\n"
     ]
    }
   ],
   "source": [
    "# Train Model\n",
    "from pandas import read_csv\n",
    "from sklearn.linear_model import LogisticRegression\n",
    "from sklearn.tree import DecisionTreeClassifier as DTC\n",
    "from sklearn.model_selection import train_test_split\n",
    "filename = 'heart.csv'\n",
    "try:\n",
    "    dataframe = read_csv(filename)\n",
    "    print('Data loaded')\n",
    "except Exception as e:\n",
    "    print(f'Error: {e}')\n",
    "\n",
    "# Data preprocessing\n",
    "#Define encoder\n",
    "encoder = OneHotEncoder(drop = 'first', sparse=False)"
   ]
  },
  {
   "cell_type": "code",
   "execution_count": 6,
   "id": "a03c931a-615d-4765-8ef8-bd11fe30f399",
   "metadata": {},
   "outputs": [
    {
     "name": "stdout",
     "output_type": "stream",
     "text": [
      "[[0. 0. 0. ... 0. 0. 1.]\n",
      " [0. 0. 0. ... 0. 1. 0.]\n",
      " [0. 0. 0. ... 0. 0. 1.]\n",
      " ...\n",
      " [0. 0. 0. ... 0. 1. 0.]\n",
      " [0. 0. 0. ... 0. 1. 0.]\n",
      " [0. 0. 0. ... 0. 0. 1.]]\n",
      "0.8152173913043478\n"
     ]
    }
   ],
   "source": [
    "X, Y = dataframe.values[ : , : -1],dataframe.values[ : , -1].astype('int')\n",
    "# Define ordinal encoding\n",
    "encoder = OneHotEncoder(drop = 'first', sparse=False)\n",
    "# Transform ordinal to numerical values\n",
    "transformed_X = encoder.fit_transform(X)\n",
    "print(transformed_X)\n",
    "X_tr, X_te, Y_tr, Y_te = train_test_split(transformed_X, Y, test_size=0.20)\n",
    "\n",
    "# model = LogisticRegression(solver='newton-cg')\n",
    "model = DTC()\n",
    "model.fit(X_tr, Y_tr)\n",
    "result = model.score(X_te, Y_te)\n",
    "print(result)"
   ]
  },
  {
   "cell_type": "code",
   "execution_count": null,
   "id": "a8194be4-c37b-415a-8f9d-3fede58ebcfc",
   "metadata": {},
   "outputs": [],
   "source": []
  },
  {
   "cell_type": "code",
   "execution_count": null,
   "id": "678a13c7-eb9e-42ff-838d-d394df7b7902",
   "metadata": {},
   "outputs": [],
   "source": []
  }
 ],
 "metadata": {
  "kernelspec": {
   "display_name": "Python 3 (ipykernel)",
   "language": "python",
   "name": "python3"
  },
  "language_info": {
   "codemirror_mode": {
    "name": "ipython",
    "version": 3
   },
   "file_extension": ".py",
   "mimetype": "text/x-python",
   "name": "python",
   "nbconvert_exporter": "python",
   "pygments_lexer": "ipython3",
   "version": "3.9.13"
  }
 },
 "nbformat": 4,
 "nbformat_minor": 5
}
